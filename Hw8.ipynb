{
 "cells": [
  {
   "cell_type": "code",
   "execution_count": 1,
   "id": "ed83aa64-d3fa-43d2-b8df-13d43e703dd7",
   "metadata": {},
   "outputs": [],
   "source": [
    "import os\n",
    "import pandas as pd\n",
    "from sklearn.model_selection import train_test_split\n",
    "from sklearn.utils import resample\n",
    "from sklearn.svm import SVC\n",
    "from sklearn.ensemble import RandomForestClassifier\n",
    "from sklearn.preprocessing import StandardScaler\n",
    "from sklearn.metrics import classification_report, ConfusionMatrixDisplay\n",
    "import matplotlib.pyplot as plt"
   ]
  },
  {
   "cell_type": "code",
   "execution_count": 2,
   "id": "bc5cabef-c71d-4fff-8b49-0bf9b9fe1ef2",
   "metadata": {},
   "outputs": [
    {
     "name": "stdout",
     "output_type": "stream",
     "text": [
      "<class 'pandas.core.frame.DataFrame'>\n",
      "RangeIndex: 193860 entries, 0 to 193859\n",
      "Data columns (total 4 columns):\n",
      " #   Column           Non-Null Count   Dtype  \n",
      "---  ------           --------------   -----  \n",
      " 0   accelerometer_X  193860 non-null  float64\n",
      " 1   accelerometer_Y  193860 non-null  float64\n",
      " 2   accelerometer_Z  193860 non-null  float64\n",
      " 3   activity         193860 non-null  object \n",
      "dtypes: float64(3), object(1)\n",
      "memory usage: 5.9+ MB\n",
      "None\n",
      "activity\n",
      "running    102240\n",
      "walking     55500\n",
      "idle        31170\n",
      "stairs       4950\n",
      "Name: count, dtype: int64\n"
     ]
    }
   ],
   "source": [
    "combined_data = pd.read_csv('./homework/combined_data.csv')\n",
    "print(combined_data.info())\n",
    "print(combined_data['activity'].value_counts())"
   ]
  },
  {
   "cell_type": "code",
   "execution_count": 3,
   "id": "b5e40769-070c-472e-a1d2-e0985334144d",
   "metadata": {},
   "outputs": [
    {
     "name": "stdout",
     "output_type": "stream",
     "text": [
      "activity\n",
      "running    102240\n",
      "walking     55500\n",
      "stairs      55500\n",
      "idle        31170\n",
      "Name: count, dtype: int64\n"
     ]
    }
   ],
   "source": [
    "running = combined_data[combined_data['activity'] == 'running']\n",
    "walking = combined_data[combined_data['activity'] == 'walking']\n",
    "idle = combined_data[combined_data['activity'] == 'idle']\n",
    "stairs = combined_data[combined_data['activity'] == 'stairs']\n",
    "\n",
    "stairs_oversampled = resample(stairs, replace=True, n_samples=len(walking), random_state=42)\n",
    "balanced_data = pd.concat([running, walking, idle, stairs_oversampled])\n",
    "\n",
    "print(balanced_data['activity'].value_counts())"
   ]
  },
  {
   "cell_type": "code",
   "execution_count": 4,
   "id": "557f5671-e2cf-45db-b24f-cabbdadc3460",
   "metadata": {},
   "outputs": [
    {
     "name": "stdout",
     "output_type": "stream",
     "text": [
      "Розмір X_train: (171087, 3)\n",
      "Розмір y_train: (171087,)\n"
     ]
    }
   ],
   "source": [
    "X = balanced_data[['accelerometer_X', 'accelerometer_Y', 'accelerometer_Z']]\n",
    "y = balanced_data['activity']\n",
    "\n",
    "X_train, X_test, y_train, y_test = train_test_split(X, y, test_size=0.3, random_state=42)\n",
    "\n",
    "print(f\"Розмір X_train: {X_train.shape}\")\n",
    "print(f\"Розмір y_train: {y_train.shape}\")"
   ]
  },
  {
   "cell_type": "code",
   "execution_count": null,
   "id": "2be53af0-36b9-4488-b16b-97dbe9d4b912",
   "metadata": {},
   "outputs": [],
   "source": [
    "svm_model = SVC(class_weight='balanced', random_state=42)\n",
    "svm_model.fit(X_train, y_train)\n",
    "\n",
    "y_pred_svm = svm_model.predict(X_test)\n",
    "\n",
    "print(\"SVM Classification Report:\")\n",
    "print(classification_report(y_test, y_pred_svm))"
   ]
  },
  {
   "cell_type": "code",
   "execution_count": 1,
   "id": "07278bc9-707d-4a80-b8a2-4e164be3a31b",
   "metadata": {},
   "outputs": [
    {
     "name": "stdout",
     "output_type": "stream",
     "text": [
      "Ядро працює!\n"
     ]
    }
   ],
   "source": [
    "print(\"Ядро працює!\")"
   ]
  },
  {
   "cell_type": "code",
   "execution_count": 3,
   "id": "b58e941b-4607-4b7a-8932-d632df1619d5",
   "metadata": {},
   "outputs": [
    {
     "name": "stdout",
     "output_type": "stream",
     "text": [
      "Файл знайдено за шляхом: ./homework/combined_data.csv\n"
     ]
    }
   ],
   "source": [
    "import os\n",
    "\n",
    "file_path = './homework/combined_data.csv'\n",
    "if os.path.exists(file_path):\n",
    "    print(f\"Файл знайдено за шляхом: {file_path}\")\n",
    "else:\n",
    "    print(f\"Файл НЕ знайдено. Перевірте шлях: {file_path}\")"
   ]
  },
  {
   "cell_type": "code",
   "execution_count": 4,
   "id": "e3444626-b54d-4731-8817-45e4409c7807",
   "metadata": {},
   "outputs": [
    {
     "name": "stdout",
     "output_type": "stream",
     "text": [
      "Інформація про завантажені дані:\n",
      "<class 'pandas.core.frame.DataFrame'>\n",
      "RangeIndex: 193860 entries, 0 to 193859\n",
      "Data columns (total 4 columns):\n",
      " #   Column           Non-Null Count   Dtype  \n",
      "---  ------           --------------   -----  \n",
      " 0   accelerometer_X  193860 non-null  float64\n",
      " 1   accelerometer_Y  193860 non-null  float64\n",
      " 2   accelerometer_Z  193860 non-null  float64\n",
      " 3   activity         193860 non-null  object \n",
      "dtypes: float64(3), object(1)\n",
      "memory usage: 5.9+ MB\n",
      "None\n",
      "\n",
      "Перші 5 рядків даних:\n",
      "   accelerometer_X  accelerometer_Y  accelerometer_Z activity\n",
      "0         1.000776         4.616021         8.576031     idle\n",
      "1         0.718261         4.209007         8.446744     idle\n",
      "2        -0.909797        -0.282516         9.203311     idle\n",
      "3         5.099650         0.148441         8.418014     idle\n",
      "4         1.762132        -0.162806         9.251195     idle\n"
     ]
    }
   ],
   "source": [
    "import pandas as pd\n",
    "\n",
    "# Завантаження даних\n",
    "combined_data = pd.read_csv('./homework/combined_data.csv')\n",
    "\n",
    "# Перевірка завантажених даних\n",
    "print(\"Інформація про завантажені дані:\")\n",
    "print(combined_data.info())\n",
    "print(\"\\nПерші 5 рядків даних:\")\n",
    "print(combined_data.head())"
   ]
  },
  {
   "cell_type": "code",
   "execution_count": 5,
   "id": "1c5d6c4d-93ac-4694-bf4a-bddb9814d426",
   "metadata": {},
   "outputs": [
    {
     "name": "stdout",
     "output_type": "stream",
     "text": [
      "Розподіл класів у 'activity':\n",
      "activity\n",
      "running    102240\n",
      "walking     55500\n",
      "idle        31170\n",
      "stairs       4950\n",
      "Name: count, dtype: int64\n"
     ]
    }
   ],
   "source": [
    "print(\"Розподіл класів у 'activity':\")\n",
    "print(combined_data['activity'].value_counts())"
   ]
  },
  {
   "cell_type": "code",
   "execution_count": 6,
   "id": "7822eae5-44cb-4cc1-9e51-d74c18950c82",
   "metadata": {},
   "outputs": [
    {
     "name": "stdout",
     "output_type": "stream",
     "text": [
      "Розподіл класів після балансування:\n",
      "activity\n",
      "running    102240\n",
      "walking     55500\n",
      "stairs      55500\n",
      "idle        31170\n",
      "Name: count, dtype: int64\n"
     ]
    }
   ],
   "source": [
    "from sklearn.utils import resample\n",
    "\n",
    "# Поділ даних за класами\n",
    "running = combined_data[combined_data['activity'] == 'running']\n",
    "walking = combined_data[combined_data['activity'] == 'walking']\n",
    "idle = combined_data[combined_data['activity'] == 'idle']\n",
    "stairs = combined_data[combined_data['activity'] == 'stairs']\n",
    "\n",
    "# Oversampling для класу stairs\n",
    "stairs_oversampled = resample(stairs, replace=True, n_samples=len(walking), random_state=42)\n",
    "\n",
    "# Об'єднання всіх класів\n",
    "balanced_data = pd.concat([running, walking, idle, stairs_oversampled])\n",
    "\n",
    "# Перевірка розподілу після балансування\n",
    "print(\"Розподіл класів після балансування:\")\n",
    "print(balanced_data['activity'].value_counts())"
   ]
  },
  {
   "cell_type": "code",
   "execution_count": 7,
   "id": "2ba91fe4-ebaf-4cde-a70e-d42025a0255d",
   "metadata": {},
   "outputs": [
    {
     "name": "stdout",
     "output_type": "stream",
     "text": [
      "Розмір навчальної вибірки: (171087, 3)\n",
      "Розмір тестової вибірки: (73323, 3)\n"
     ]
    }
   ],
   "source": [
    "from sklearn.model_selection import train_test_split\n",
    "\n",
    "# Відокремлення характеристик і міток\n",
    "X = balanced_data[['accelerometer_X', 'accelerometer_Y', 'accelerometer_Z']]\n",
    "y = balanced_data['activity']\n",
    "\n",
    "# Розділення даних\n",
    "X_train, X_test, y_train, y_test = train_test_split(X, y, test_size=0.3, random_state=42)\n",
    "\n",
    "print(f\"Розмір навчальної вибірки: {X_train.shape}\")\n",
    "print(f\"Розмір тестової вибірки: {X_test.shape}\")"
   ]
  },
  {
   "cell_type": "code",
   "execution_count": null,
   "id": "dcd40bc4-4dc3-4e28-bf5c-82a8af096be8",
   "metadata": {},
   "outputs": [
    {
     "name": "stdout",
     "output_type": "stream",
     "text": [
      "Навчання SVM...\n"
     ]
    }
   ],
   "source": [
    "from sklearn.svm import SVC\n",
    "from sklearn.metrics import classification_report\n",
    "\n",
    "print(\"Навчання SVM...\")\n",
    "svm_model = SVC(class_weight='balanced', random_state=42)\n",
    "svm_model.fit(X_train, y_train)\n",
    "\n",
    "print(\"Прогнозування...\")\n",
    "y_pred_svm = svm_model.predict(X_test)\n",
    "\n",
    "print(\"SVM Classification Report:\")\n",
    "print(classification_report(y_test, y_pred_svm))"
   ]
  },
  {
   "cell_type": "code",
   "execution_count": 4,
   "id": "1d045d0b-219a-48e5-90e3-b438b0dadb0f",
   "metadata": {},
   "outputs": [
    {
     "name": "stdout",
     "output_type": "stream",
     "text": [
      "Дані успішно завантажено!\n",
      "<class 'pandas.core.frame.DataFrame'>\n",
      "RangeIndex: 193860 entries, 0 to 193859\n",
      "Data columns (total 4 columns):\n",
      " #   Column           Non-Null Count   Dtype  \n",
      "---  ------           --------------   -----  \n",
      " 0   accelerometer_X  193860 non-null  float64\n",
      " 1   accelerometer_Y  193860 non-null  float64\n",
      " 2   accelerometer_Z  193860 non-null  float64\n",
      " 3   activity         193860 non-null  object \n",
      "dtypes: float64(3), object(1)\n",
      "memory usage: 5.9+ MB\n",
      "None\n"
     ]
    }
   ],
   "source": [
    "import pandas as pd\n",
    "\n",
    "# Завантаження даних\n",
    "file_path = './homework/combined_data.csv'\n",
    "\n",
    "try:\n",
    "    combined_data = pd.read_csv(file_path)\n",
    "    print(\"Дані успішно завантажено!\")\n",
    "    print(combined_data.info())\n",
    "except FileNotFoundError:\n",
    "    print(f\"Файл не знайдено за шляхом: {file_path}\")"
   ]
  },
  {
   "cell_type": "code",
   "execution_count": 5,
   "id": "f94242a5-cd7f-498d-95bc-984d10bb9143",
   "metadata": {},
   "outputs": [
    {
     "name": "stdout",
     "output_type": "stream",
     "text": [
      "Розподіл класів після балансування:\n",
      "activity\n",
      "running    102240\n",
      "walking     55500\n",
      "stairs      55500\n",
      "idle        31170\n",
      "Name: count, dtype: int64\n"
     ]
    }
   ],
   "source": [
    "from sklearn.utils import resample\n",
    "\n",
    "# Поділ даних за класами\n",
    "running = combined_data[combined_data['activity'] == 'running']\n",
    "walking = combined_data[combined_data['activity'] == 'walking']\n",
    "idle = combined_data[combined_data['activity'] == 'idle']\n",
    "stairs = combined_data[combined_data['activity'] == 'stairs']\n",
    "\n",
    "# Oversampling для класу stairs\n",
    "stairs_oversampled = resample(stairs, replace=True, n_samples=len(walking), random_state=42)\n",
    "\n",
    "# Об'єднання всіх класів\n",
    "balanced_data = pd.concat([running, walking, idle, stairs_oversampled])\n",
    "\n",
    "# Перевірка розподілу після балансування\n",
    "print(\"Розподіл класів після балансування:\")\n",
    "print(balanced_data['activity'].value_counts())"
   ]
  },
  {
   "cell_type": "code",
   "execution_count": null,
   "id": "77b48e0d-a308-481f-8c72-d18497bf3099",
   "metadata": {},
   "outputs": [],
   "source": []
  },
  {
   "cell_type": "code",
   "execution_count": 6,
   "id": "e89d54d4-aa8c-49eb-92fd-05b998e592ca",
   "metadata": {},
   "outputs": [
    {
     "name": "stdout",
     "output_type": "stream",
     "text": [
      "Розмір навчальної вибірки: (171087, 3)\n",
      "Розмір тестової вибірки: (73323, 3)\n"
     ]
    }
   ],
   "source": [
    "from sklearn.model_selection import train_test_split\n",
    "\n",
    "# Відокремлення характеристик і міток\n",
    "X = balanced_data[['accelerometer_X', 'accelerometer_Y', 'accelerometer_Z']]\n",
    "y = balanced_data['activity']\n",
    "\n",
    "# Розділення на навчальні та тестові вибірки\n",
    "X_train, X_test, y_train, y_test = train_test_split(X, y, test_size=0.3, random_state=42)\n",
    "\n",
    "# Перевірка розмірів вибірок\n",
    "print(f\"Розмір навчальної вибірки: {X_train.shape}\")\n",
    "print(f\"Розмір тестової вибірки: {X_test.shape}\")"
   ]
  },
  {
   "cell_type": "code",
   "execution_count": null,
   "id": "d7769bcd-b647-457a-9936-25301a3a10d6",
   "metadata": {},
   "outputs": [
    {
     "name": "stdout",
     "output_type": "stream",
     "text": [
      "Навчання SVM...\n"
     ]
    }
   ],
   "source": [
    "from sklearn.svm import SVC\n",
    "from sklearn.metrics import classification_report\n",
    "\n",
    "print(\"Навчання SVM...\")\n",
    "svm_model = SVC(class_weight='balanced', random_state=42)\n",
    "svm_model.fit(X_train, y_train)\n",
    "\n",
    "print(\"Прогнозування...\")\n",
    "y_pred_svm = svm_model.predict(X_test)\n",
    "\n",
    "print(\"SVM Classification Report:\")\n",
    "print(classification_report(y_test, y_pred_svm))"
   ]
  },
  {
   "cell_type": "code",
   "execution_count": 2,
   "id": "41b8d8b5-7cbf-4075-b18d-8bece645c37d",
   "metadata": {},
   "outputs": [
    {
     "name": "stdout",
     "output_type": "stream",
     "text": [
      "Розподіл класів після балансування:\n",
      "activity\n",
      "running    102240\n",
      "walking     55500\n",
      "stairs      55500\n",
      "idle        31170\n",
      "Name: count, dtype: int64\n"
     ]
    }
   ],
   "source": [
    "import pandas as pd\n",
    "from sklearn.utils import resample\n",
    "\n",
    "# Завантаження початкових даних\n",
    "combined_data = pd.read_csv('./homework/combined_data.csv')\n",
    "\n",
    "# Балансування класів\n",
    "running = combined_data[combined_data['activity'] == 'running']\n",
    "walking = combined_data[combined_data['activity'] == 'walking']\n",
    "idle = combined_data[combined_data['activity'] == 'idle']\n",
    "stairs = combined_data[combined_data['activity'] == 'stairs']\n",
    "\n",
    "stairs_oversampled = resample(stairs, replace=True, n_samples=len(walking), random_state=42)\n",
    "balanced_data = pd.concat([running, walking, idle, stairs_oversampled])\n",
    "\n",
    "print(\"Розподіл класів після балансування:\")\n",
    "print(balanced_data['activity'].value_counts())"
   ]
  },
  {
   "cell_type": "code",
   "execution_count": 3,
   "id": "0a50c69d-805d-47ff-832d-93c2774b6062",
   "metadata": {},
   "outputs": [
    {
     "name": "stdout",
     "output_type": "stream",
     "text": [
      "Розмір навчальної вибірки: (171087, 3)\n",
      "Розмір тестової вибірки: (73323, 3)\n"
     ]
    }
   ],
   "source": [
    "from sklearn.model_selection import train_test_split\n",
    "\n",
    "# Відокремлення характеристик і міток\n",
    "X = balanced_data[['accelerometer_X', 'accelerometer_Y', 'accelerometer_Z']]\n",
    "y = balanced_data['activity']\n",
    "\n",
    "# Розділення на навчальну і тестову вибірки\n",
    "X_train, X_test, y_train, y_test = train_test_split(X, y, test_size=0.3, random_state=42)\n",
    "\n",
    "print(f\"Розмір навчальної вибірки: {X_train.shape}\")\n",
    "print(f\"Розмір тестової вибірки: {X_test.shape}\")"
   ]
  },
  {
   "cell_type": "code",
   "execution_count": 5,
   "id": "471186ba-9724-40f9-9fde-c551f9ab1248",
   "metadata": {},
   "outputs": [],
   "source": [
    "# Імпорт необхідних модулів\n",
    "from sklearn.svm import SVC\n",
    "from sklearn.model_selection import train_test_split\n",
    "from sklearn.utils import resample\n",
    "from sklearn.metrics import classification_report\n",
    "import pandas as pd"
   ]
  },
  {
   "cell_type": "code",
   "execution_count": 6,
   "id": "ce241ae0-2033-4010-8edb-1f5e405c1bcc",
   "metadata": {},
   "outputs": [
    {
     "name": "stdout",
     "output_type": "stream",
     "text": [
      "SVC імпортовано успішно!\n"
     ]
    }
   ],
   "source": [
    "try:\n",
    "    svm_model = SVC(class_weight='balanced', random_state=42)\n",
    "    print(\"SVC імпортовано успішно!\")\n",
    "except NameError as e:\n",
    "    print(f\"Помилка: {e}\")"
   ]
  },
  {
   "cell_type": "code",
   "execution_count": 9,
   "id": "b54feab0-e378-44ea-ae17-ee3c54428c9c",
   "metadata": {},
   "outputs": [
    {
     "name": "stdout",
     "output_type": "stream",
     "text": [
      "Кількість записів у X_train_small: 27441\n",
      "Кількість записів у y_train_small: 27441\n",
      "Навчання SVM на меншій вибірці...\n",
      "Навчання завершено.\n"
     ]
    }
   ],
   "source": [
    "# Замість sample використовуйте random_state і індекси\n",
    "sample_indices = X_train.sample(10000, random_state=42).index\n",
    "\n",
    "# Вибір підмножини даних\n",
    "X_train_small = X_train.loc[sample_indices]\n",
    "y_train_small = y_train.loc[sample_indices]\n",
    "\n",
    "# Перевірка кількості записів\n",
    "print(f\"Кількість записів у X_train_small: {len(X_train_small)}\")\n",
    "print(f\"Кількість записів у y_train_small: {len(y_train_small)}\")\n",
    "\n",
    "# Навчання моделі SVM\n",
    "print(\"Навчання SVM на меншій вибірці...\")\n",
    "svm_model = SVC(class_weight='balanced', random_state=42)\n",
    "svm_model.fit(X_train_small, y_train_small)\n",
    "print(\"Навчання завершено.\")"
   ]
  },
  {
   "cell_type": "code",
   "execution_count": 10,
   "id": "b7bd59ac-d3a6-4a11-ad8e-53446e102b19",
   "metadata": {},
   "outputs": [
    {
     "name": "stdout",
     "output_type": "stream",
     "text": [
      "Чи індекси співпадають?\n",
      "True\n"
     ]
    }
   ],
   "source": [
    "print(\"Чи індекси співпадають?\")\n",
    "print(X_train_small.index.equals(y_train_small.index))"
   ]
  },
  {
   "cell_type": "code",
   "execution_count": 11,
   "id": "04541ea7-c04e-4db7-a62b-113829acb763",
   "metadata": {},
   "outputs": [
    {
     "name": "stdout",
     "output_type": "stream",
     "text": [
      "Прогнозування на тестовій вибірці...\n",
      "SVM Classification Report:\n",
      "              precision    recall  f1-score   support\n",
      "\n",
      "        idle       0.91      0.99      0.95      9390\n",
      "     running       0.96      0.79      0.87     30513\n",
      "      stairs       0.56      0.69      0.62     16712\n",
      "     walking       0.66      0.69      0.68     16708\n",
      "\n",
      "    accuracy                           0.77     73323\n",
      "   macro avg       0.77      0.79      0.78     73323\n",
      "weighted avg       0.80      0.77      0.78     73323\n",
      "\n"
     ]
    }
   ],
   "source": [
    "# Прогнозування\n",
    "print(\"Прогнозування на тестовій вибірці...\")\n",
    "y_pred_svm = svm_model.predict(X_test)\n",
    "\n",
    "# Оцінка результатів\n",
    "from sklearn.metrics import classification_report\n",
    "print(\"SVM Classification Report:\")\n",
    "print(classification_report(y_test, y_pred_svm))"
   ]
  },
  {
   "cell_type": "code",
   "execution_count": 12,
   "id": "55986f53-bb0f-466b-ac01-e9efa9f1ad21",
   "metadata": {},
   "outputs": [
    {
     "data": {
      "image/png": "[encoded data removed]",
      "text/plain": [
       "<Figure size 640x480 with 2 Axes>"
      ]
     },
     "metadata": {},
     "output_type": "display_data"
    }
   ],
   "source": [
    "from sklearn.metrics import ConfusionMatrixDisplay\n",
    "import matplotlib.pyplot as plt\n",
    "\n",
    "# Побудова матриці плутанини\n",
    "ConfusionMatrixDisplay.from_estimator(svm_model, X_test, y_test, cmap='Blues')\n",
    "plt.title(\"Матриця плутанини для SVM\")\n",
    "plt.show()"
   ]
  },
  {
   "cell_type": "code",
   "execution_count": 13,
   "id": "aab751f1-83e1-4aa8-a056-b905a19f5a3d",
   "metadata": {},
   "outputs": [
    {
     "name": "stdout",
     "output_type": "stream",
     "text": [
      "Навчання Random Forest...\n",
      "Random Forest Classification Report:\n",
      "              precision    recall  f1-score   support\n",
      "\n",
      "        idle       1.00      1.00      1.00      9390\n",
      "     running       1.00      1.00      1.00     30513\n",
      "      stairs       1.00      1.00      1.00     16712\n",
      "     walking       1.00      1.00      1.00     16708\n",
      "\n",
      "    accuracy                           1.00     73323\n",
      "   macro avg       1.00      1.00      1.00     73323\n",
      "weighted avg       1.00      1.00      1.00     73323\n",
      "\n"
     ]
    },
    {
     "data": {
      "image/png": "[encoded data removed]",
      "text/plain": [
       "<Figure size 640x480 with 2 Axes>"
      ]
     },
     "metadata": {},
     "output_type": "display_data"
    }
   ],
   "source": [
    "from sklearn.ensemble import RandomForestClassifier\n",
    "\n",
    "print(\"Навчання Random Forest...\")\n",
    "rf_model = RandomForestClassifier(n_estimators=100, random_state=42)\n",
    "rf_model.fit(X_train, y_train)\n",
    "\n",
    "# Прогнозування\n",
    "y_pred_rf = rf_model.predict(X_test)\n",
    "\n",
    "# Оцінка\n",
    "print(\"Random Forest Classification Report:\")\n",
    "print(classification_report(y_test, y_pred_rf))\n",
    "\n",
    "# Матриця плутанини для Random Forest\n",
    "ConfusionMatrixDisplay.from_estimator(rf_model, X_test, y_test, cmap='Greens')\n",
    "plt.title(\"Матриця плутанини для Random Forest\")\n",
    "plt.show()"
   ]
  },
  {
   "cell_type": "code",
   "execution_count": 14,
   "id": "172b1fa9-b88c-4120-b888-e034abe865e0",
   "metadata": {},
   "outputs": [
    {
     "name": "stdout",
     "output_type": "stream",
     "text": [
      "ROC-AUC для Random Forest:\n",
      "0.9999999753881788\n"
     ]
    }
   ],
   "source": [
    "from sklearn.metrics import roc_auc_score, roc_curve\n",
    "\n",
    "print(\"ROC-AUC для Random Forest:\")\n",
    "y_pred_prob = rf_model.predict_proba(X_test)\n",
    "print(roc_auc_score(y_test, y_pred_prob, multi_class='ovr'))"
   ]
  },
  {
   "cell_type": "code",
   "execution_count": 15,
   "id": "e62920c7-caca-4b93-93ee-2c238bd1cf18",
   "metadata": {},
   "outputs": [
    {
     "data": {
      "image/png": "[encoded data removed]",
      "text/plain": [
       "<Figure size 640x480 with 1 Axes>"
      ]
     },
     "metadata": {},
     "output_type": "display_data"
    }
   ],
   "source": [
    "import matplotlib.pyplot as plt\n",
    "from sklearn.preprocessing import label_binarize\n",
    "\n",
    "# Бінаризація міток для побудови ROC-кривих\n",
    "y_test_bin = label_binarize(y_test, classes=rf_model.classes_)\n",
    "n_classes = y_test_bin.shape[1]\n",
    "\n",
    "# Обчислення ROC-кривих\n",
    "fpr = {}\n",
    "tpr = {}\n",
    "roc_auc = {}\n",
    "\n",
    "for i in range(n_classes):\n",
    "    fpr[i], tpr[i], _ = roc_curve(y_test_bin[:, i], y_pred_prob[:, i])\n",
    "    roc_auc[i] = roc_auc_score(y_test_bin[:, i], y_pred_prob[:, i])\n",
    "\n",
    "# Побудова графіків для кожного класу\n",
    "plt.figure()\n",
    "for i in range(n_classes):\n",
    "    plt.plot(fpr[i], tpr[i], label=f\"Клас {rf_model.classes_[i]} (AUC = {roc_auc[i]:.2f})\")\n",
    "\n",
    "plt.plot([0, 1], [0, 1], \"k--\")  # Діагональ випадкової класифікації\n",
    "plt.xlim([0.0, 1.0])\n",
    "plt.ylim([0.0, 1.05])\n",
    "plt.xlabel(\"False Positive Rate\")\n",
    "plt.ylabel(\"True Positive Rate\")\n",
    "plt.title(\"ROC-криві для Random Forest\")\n",
    "plt.legend(loc=\"lower right\")\n",
    "plt.show()"
   ]
  },
  {
   "cell_type": "code",
   "execution_count": null,
   "id": "60b3b9e2-7fc9-443e-bdc4-31fa5ee0d2e5",
   "metadata": {},
   "outputs": [],
   "source": [
    "# Висновки\n",
    "\n",
    "- **Random Forest** показав ідеальні результати (ROC-AUC = 0.9999999753881788) і краще впорався із класифікацією всіх класів.\n",
    "- **SVM** працював добре для класів `idle` і `running`, але мав труднощі з класами `stairs` і `walking`.\n",
    "- Використання часових ознак може покращити якість класифікації, особливо для SVM.\n",
    "- Рекомендується застосувати крос-валідацію та протестувати інші алгоритми, такі як `Gradient Boosting`."
   ]
  }
 ],
 "metadata": {
  "kernelspec": {
   "display_name": "Python 3 (ipykernel)",
   "language": "python",
   "name": "python3"
  },
  "language_info": {
   "codemirror_mode": {
    "name": "ipython",
    "version": 3
   },
   "file_extension": ".py",
   "mimetype": "text/x-python",
   "name": "python",
   "nbconvert_exporter": "python",
   "pygments_lexer": "ipython3",
   "version": "3.10.8"
  }
 },
 "nbformat": 4,
 "nbformat_minor": 5
}
